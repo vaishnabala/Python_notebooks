{
 "cells": [
  {
   "cell_type": "code",
   "execution_count": null,
   "metadata": {},
   "outputs": [],
   "source": [
    "pizza_type_dict = {}\n",
    "base_type_dict = {}\n",
    "toppings_type_dict = {}\n",
    "cust_data = {}"
   ]
  },
  {
   "cell_type": "code",
   "execution_count": null,
   "metadata": {},
   "outputs": [],
   "source": [
    "cust_data['Sandra'] = { 'num_of_orders':4, 'order_num':[(P1,B1,[T1,T2],3)]   }"
   ]
  },
  {
   "cell_type": "code",
   "execution_count": 46,
   "metadata": {},
   "outputs": [],
   "source": [
    "def print_dict(dictionary):\n",
    "     print(\"Code, Type, Price\")\n",
    "     for key in dictionary.keys():\n",
    "          print(\" \" + key+ \",\" + str(dictionary[key][0]) + \",\" + str(dictionary[key][1]))"
   ]
  },
  {
   "cell_type": "code",
   "execution_count": 44,
   "metadata": {},
   "outputs": [],
   "source": [
    "def load_data(data_path,type):\n",
    "     data_file = open(data_path, \"r\")\n",
    "     for line in data_file:\n",
    "          splitedLine = line.split(\";\")\n",
    "          if type == 'pizza':\n",
    "               pizza_type_dict[splitedLine[0]] =[splitedLine[1],float(splitedLine[2])]\n",
    "          elif type == 'base':\n",
    "               base_type_dict[splitedLine[0]] =[splitedLine[1],float(splitedLine[2])]\n",
    "          elif type == 'toppings':\n",
    "               toppings_type_dict[splitedLine[0]] =[splitedLine[1],float(splitedLine[2])]\n",
    "     data_file.close()"
   ]
  },
  {
   "cell_type": "code",
   "execution_count": 43,
   "metadata": {},
   "outputs": [],
   "source": [
    "def print_complete_order(name,ord_num):\n",
    "     order_list = cust_data[name][ord_nuum]\n",
    "     print(\"Pizza_type\"+\"-->\"+\"Base_Type\"+\"-->\"+\"Toppings\"+\"-->\"+\"-->\"+\"qty\"+\"-->\"+\"price\")\n",
    "     print(\"-----------------------------------------\")\n",
    "     for order in order_list:\n",
    "          bill = calculate_bill(order)\n",
    "          print(order[0]+\"-->\"+order[1]+\"-->\"+str(order[2])+\"-->\"+str(order[3])+\"-->\" + str(bill)+\"$\")"
   ]
  },
  {
   "cell_type": "code",
   "execution_count": 42,
   "metadata": {},
   "outputs": [],
   "source": [
    "def generate_order_num(name):\n",
    "     if name in cust_data.keys():\n",
    "          ord_num = cust_data[name]['nuum_of_orders']\n",
    "          ord_num +=1\n",
    "          return ord_num\n",
    "     else:\n",
    "          ord_num = 0\n",
    "          cust_data[name] = {}\n",
    "          cust_data[name]['num_of_orders'] = ord_num\n",
    "          ord_num += 1\n",
    "          return ord_num"
   ]
  },
  {
   "cell_type": "code",
   "execution_count": 41,
   "metadata": {},
   "outputs": [],
   "source": [
    "def generate_order_num(name):\n",
    "     if name in cust_data.keys():\n",
    "          ord_num = cust_data[name]['num_of_orders']\n",
    "          ord_nuum +=1\n",
    "          return ord_num\n",
    "     else:\n",
    "          ord_num = 0\n",
    "          cust_data[name] = {}\n",
    "          cust_data[name]['num_of_orders'] = ord_num\n",
    "          ord_num +=1\n",
    "          return ord_num\n",
    "\n"
   ]
  },
  {
   "cell_type": "code",
   "execution_count": 40,
   "metadata": {},
   "outputs": [],
   "source": [
    "def add_cust_data(order_tup,name,order_num):\n",
    "     cust_data[name]['num_of_orders'] = order_num\n",
    "     if order_num in cust_data[name].keys():\n",
    "          l = cust_data[name][order_num]\n",
    "          l.append(order_tup)\n",
    "     else:\n",
    "          l = []\n",
    "          l.append(order_tup)\n",
    "          cust_data[name][order_num] = l\n",
    "          "
   ]
  },
  {
   "cell_type": "code",
   "execution_count": 39,
   "metadata": {},
   "outputs": [],
   "source": [
    "def calculate_bill(ord_tup):\n",
    "     bill = 0\n",
    "     piza_type = ord_tup[0]\n",
    "     base_type = ord_tup[1]\n",
    "     top_list = ord_tup[2]\n",
    "     qty = ord_tup[3]\n",
    "     bill += pizza_type_dict[piza_type][1]\n",
    "     bill += base_type_dict[base_type][1]\n",
    "     bill += len(top_list)*0.5\n",
    "     bill = bill * qty\n",
    "     return bill"
   ]
  },
  {
   "cell_type": "code",
   "execution_count": null,
   "metadata": {},
   "outputs": [],
   "source": [
    "def order():\n",
    "     print(\"Welcome to the pizza\")\n",
    "     name = input(\"Please enter your name\")\n",
    "     total_bill = 0\n",
    "     ord_num = generate_order_num(name)\n",
    "     print(\"Hello\"+ name+\", What kind of pizza would you like to have:\")\n",
    "     print_dict(pizza_type_dict)\n",
    "     piza_type = input(\"please select from above options:\")\n",
    "     piza_type = piza_type.upper()\n",
    "     while piza_type !='X':\n",
    "          if piza_type in pizza_type_dict.keys():\n",
    "               print(\"Here is the base options available\")\n",
    "               print_dict(base_type_dict)\n",
    "               base_type = input(\"please enter your option\")\n",
    "               base_type = base_type.upper()\n",
    "               base_flag = 0\n",
    "               while base_flag ==0:\n",
    "                    base_flag = 1\n",
    "                    if base_flag not in base_type_dict.keys():\n",
    "                         base_flag = 0\n",
    "                         print(\"It is an invalid option\")\n",
    "                         print_dict(base_type_dict)\n",
    "                         base_type = input(\"Please enter the valid option\")\n",
    "                         base_type = base_type.upper()\n",
    "               print(\"\\n\")\n",
    "               print(\"Please enter teh toppings you would like to have from following list\")\n",
    "               print_dict(toppings_type_dict)\n",
    "               toppings = input(\"Enter the topping in comma separated form, e.g if you wnat to add T1 and T2, enter T1, T2\")\n",
    "               split_toppings = toppings.split(',')\n",
    "               split_toppings = [x.upper() for x in split_toppings]\n",
    "\n",
    "\n",
    "               top_flag = 0\n",
    "               while top_flag == 0:\n",
    "                    top_flag = 1\n",
    "                    for item in split_toppings:\n",
    "                         if item not in toppings_type_dict.keys():\n",
    "                              top_flag = 0\n",
    "                              toppings = input(\" \"+ item + \" is invalid, please re enter the toppings\")\n",
    "                              split_toppings = toppings.split(\",\")\n",
    "                              split_toppings = [x.upper() for x in split_toppings]\n",
    "                              break                                \n",
    "               qty = 2000\n",
    "               while qty > 1000:\n",
    "                    qty = input(\"Please enter the number off pizzas to order\")\n",
    "                    qty = int(qty)\n",
    "                    if qty >1000:\n",
    "                         print(\"You cannot order more than 1000 pizzas\")\n",
    "               print(\"\\n\")\n",
    "               print(\"Here is your order till now\")   \n",
    "               print(\"Pizza Type :\", pizza_type_dict[piza_type][0] )\n",
    "               print(\"Pizza Base :\", base_type_dict[base_type][0] )\n",
    "               print(\"Toppings: \", str(split_toppings))  \n",
    "               print(\"Number of pizzas\", qty)\n",
    "\n",
    "               cnf = input(\"Press y to confirm,else press c to cancel\")\n",
    "               if cnf == ' y':\n",
    "                    ord_tup = (piza_type,base_type,split_toppings,qty)\n",
    "                    total_bill += calculate_bill(ord_tup)\n",
    "                    print(\"Your total bill till nnow is \",total_bill)\n",
    "                    add_cust_data(ord_tup,name,ord_num)\n",
    "                    piza_typ = input(\"Press X to complete your orderr or to continue, select pizza type\")\n",
    "                    piza_type = piza_type.upper()\n",
    "               elif cnf == 'c':\n",
    "                    piza_type = input(\"To order new piza, select piza type or press x to exit\")\n",
    "                    piza_type = piza_type.upper()\n",
    "          else:\n",
    "               print_dict(pizza_type_dict)\n",
    "               piza_type = input(\"please select from above options:\")\n",
    "               piza_type = piza_type.upper()\n",
    "     print(\"Thank you for your order, here is your final order\")\n",
    "     print_complete_order(name,ord_num)\n",
    "     print(\"Total amount to be paid\", str(total_bill))\n",
    "\n",
    "\n",
    "     return None"
   ]
  },
  {
   "cell_type": "code",
   "execution_count": 47,
   "metadata": {},
   "outputs": [
    {
     "name": "stdout",
     "output_type": "stream",
     "text": [
      "Welcome to the pizza\n",
      "Hellovaishna, What kind of pizza would you like to have:\n",
      "Code, Type, Price\n",
      " P1,Margherita,3.0\n",
      " P2,Chicago,3.5\n",
      " P3,Greek,3.0\n",
      " P4,California,3.5\n",
      " P5,Farm house,3.0\n",
      "Here is the base options available\n",
      "Code, Type, Price\n",
      " B1,Thin crust,1.0\n",
      " B2,Thick Cruust,1.5\n",
      " B3,Cheese burst,2.0\n",
      "Here is the base options available\n",
      "Code, Type, Price\n",
      " B1,Thin crust,1.0\n",
      " B2,Thick Cruust,1.5\n",
      " B3,Cheese burst,2.0\n",
      "Here is the base options available\n",
      "Code, Type, Price\n",
      " B1,Thin crust,1.0\n",
      " B2,Thick Cruust,1.5\n",
      " B3,Cheese burst,2.0\n",
      "Here is the base options available\n",
      "Code, Type, Price\n",
      " B1,Thin crust,1.0\n",
      " B2,Thick Cruust,1.5\n",
      " B3,Cheese burst,2.0\n",
      "Here is the base options available\n",
      "Code, Type, Price\n",
      " B1,Thin crust,1.0\n",
      " B2,Thick Cruust,1.5\n",
      " B3,Cheese burst,2.0\n",
      "Here is the base options available\n",
      "Code, Type, Price\n",
      " B1,Thin crust,1.0\n",
      " B2,Thick Cruust,1.5\n",
      " B3,Cheese burst,2.0\n",
      "Here is the base options available\n",
      "Code, Type, Price\n",
      " B1,Thin crust,1.0\n",
      " B2,Thick Cruust,1.5\n",
      " B3,Cheese burst,2.0\n",
      "Here is the base options available\n",
      "Code, Type, Price\n",
      " B1,Thin crust,1.0\n",
      " B2,Thick Cruust,1.5\n",
      " B3,Cheese burst,2.0\n",
      "Here is the base options available\n",
      "Code, Type, Price\n",
      " B1,Thin crust,1.0\n",
      " B2,Thick Cruust,1.5\n",
      " B3,Cheese burst,2.0\n",
      "Here is the base options available\n",
      "Code, Type, Price\n",
      " B1,Thin crust,1.0\n",
      " B2,Thick Cruust,1.5\n",
      " B3,Cheese burst,2.0\n",
      "Here is the base options available\n",
      "Code, Type, Price\n",
      " B1,Thin crust,1.0\n",
      " B2,Thick Cruust,1.5\n",
      " B3,Cheese burst,2.0\n",
      "Here is the base options available\n",
      "Code, Type, Price\n",
      " B1,Thin crust,1.0\n",
      " B2,Thick Cruust,1.5\n",
      " B3,Cheese burst,2.0\n",
      "Here is the base options available\n",
      "Code, Type, Price\n",
      " B1,Thin crust,1.0\n",
      " B2,Thick Cruust,1.5\n",
      " B3,Cheese burst,2.0\n",
      "Here is the base options available\n",
      "Code, Type, Price\n",
      " B1,Thin crust,1.0\n",
      " B2,Thick Cruust,1.5\n",
      " B3,Cheese burst,2.0\n",
      "Here is the base options available\n",
      "Code, Type, Price\n",
      " B1,Thin crust,1.0\n",
      " B2,Thick Cruust,1.5\n",
      " B3,Cheese burst,2.0\n",
      "Here is the base options available\n",
      "Code, Type, Price\n",
      " B1,Thin crust,1.0\n",
      " B2,Thick Cruust,1.5\n",
      " B3,Cheese burst,2.0\n",
      "Here is the base options available\n",
      "Code, Type, Price\n",
      " B1,Thin crust,1.0\n",
      " B2,Thick Cruust,1.5\n",
      " B3,Cheese burst,2.0\n",
      "Here is the base options available\n",
      "Code, Type, Price\n",
      " B1,Thin crust,1.0\n",
      " B2,Thick Cruust,1.5\n",
      " B3,Cheese burst,2.0\n",
      "Here is the base options available\n",
      "Code, Type, Price\n",
      " B1,Thin crust,1.0\n",
      " B2,Thick Cruust,1.5\n",
      " B3,Cheese burst,2.0\n",
      "Here is the base options available\n",
      "Code, Type, Price\n",
      " B1,Thin crust,1.0\n",
      " B2,Thick Cruust,1.5\n",
      " B3,Cheese burst,2.0\n",
      "Here is the base options available\n",
      "Code, Type, Price\n",
      " B1,Thin crust,1.0\n",
      " B2,Thick Cruust,1.5\n",
      " B3,Cheese burst,2.0\n",
      "Here is the base options available\n",
      "Code, Type, Price\n",
      " B1,Thin crust,1.0\n",
      " B2,Thick Cruust,1.5\n",
      " B3,Cheese burst,2.0\n",
      "Here is the base options available\n",
      "Code, Type, Price\n",
      " B1,Thin crust,1.0\n",
      " B2,Thick Cruust,1.5\n",
      " B3,Cheese burst,2.0\n",
      "Here is the base options available\n",
      "Code, Type, Price\n",
      " B1,Thin crust,1.0\n",
      " B2,Thick Cruust,1.5\n",
      " B3,Cheese burst,2.0\n",
      "Here is the base options available\n",
      "Code, Type, Price\n",
      " B1,Thin crust,1.0\n",
      " B2,Thick Cruust,1.5\n",
      " B3,Cheese burst,2.0\n",
      "Here is the base options available\n",
      "Code, Type, Price\n",
      " B1,Thin crust,1.0\n",
      " B2,Thick Cruust,1.5\n",
      " B3,Cheese burst,2.0\n",
      "Here is the base options available\n",
      "Code, Type, Price\n",
      " B1,Thin crust,1.0\n",
      " B2,Thick Cruust,1.5\n",
      " B3,Cheese burst,2.0\n",
      "Here is the base options available\n",
      "Code, Type, Price\n",
      " B1,Thin crust,1.0\n",
      " B2,Thick Cruust,1.5\n",
      " B3,Cheese burst,2.0\n",
      "Here is the base options available\n",
      "Code, Type, Price\n",
      " B1,Thin crust,1.0\n",
      " B2,Thick Cruust,1.5\n",
      " B3,Cheese burst,2.0\n",
      "Here is the base options available\n",
      "Code, Type, Price\n",
      " B1,Thin crust,1.0\n",
      " B2,Thick Cruust,1.5\n",
      " B3,Cheese burst,2.0\n",
      "Here is the base options available\n",
      "Code, Type, Price\n",
      " B1,Thin crust,1.0\n",
      " B2,Thick Cruust,1.5\n",
      " B3,Cheese burst,2.0\n",
      "Here is the base options available\n",
      "Code, Type, Price\n",
      " B1,Thin crust,1.0\n",
      " B2,Thick Cruust,1.5\n",
      " B3,Cheese burst,2.0\n",
      "Here is the base options available\n",
      "Code, Type, Price\n",
      " B1,Thin crust,1.0\n",
      " B2,Thick Cruust,1.5\n",
      " B3,Cheese burst,2.0\n",
      "Here is the base options available\n",
      "Code, Type, Price\n",
      " B1,Thin crust,1.0\n",
      " B2,Thick Cruust,1.5\n",
      " B3,Cheese burst,2.0\n"
     ]
    }
   ],
   "source": [
    "if __name__ == \"__main__\":\n",
    "     load_data(\"./Types_of_pizza.txt\",'pizza')\n",
    "     load_data(\"./Types_of_base.txt\",'base')\n",
    "     load_data(\"./Types_of_toppings.txt\",'toppings')\n",
    "     order()"
   ]
  },
  {
   "cell_type": "code",
   "execution_count": 31,
   "metadata": {},
   "outputs": [
    {
     "data": {
      "text/plain": [
       "{'T1': ['Olives', 0.5],\n",
       " 'T2': ['Extra Cheese', 0.5],\n",
       " 'T3': ['Mushrooms', 0.5],\n",
       " 'T4': ['Green peppers', 0.5]}"
      ]
     },
     "execution_count": 31,
     "metadata": {},
     "output_type": "execute_result"
    }
   ],
   "source": [
    "toppings_type_dict"
   ]
  },
  {
   "cell_type": "code",
   "execution_count": 32,
   "metadata": {},
   "outputs": [
    {
     "data": {
      "text/plain": [
       "{'B1': ['Thin crust', 1.0],\n",
       " 'B2': ['Thick Cruust', 1.5],\n",
       " 'B3': ['Cheese burst', 2.0]}"
      ]
     },
     "execution_count": 32,
     "metadata": {},
     "output_type": "execute_result"
    }
   ],
   "source": [
    "base_type_dict"
   ]
  },
  {
   "cell_type": "code",
   "execution_count": 33,
   "metadata": {},
   "outputs": [
    {
     "data": {
      "text/plain": [
       "{'P1': ['Margherita', 3.0],\n",
       " 'P2': ['Chicago', 3.5],\n",
       " 'P3': ['Greek', 3.0],\n",
       " 'P4': ['California', 3.5],\n",
       " 'P5': ['Farm house', 3.0]}"
      ]
     },
     "execution_count": 33,
     "metadata": {},
     "output_type": "execute_result"
    }
   ],
   "source": [
    "pizza_type_dict"
   ]
  },
  {
   "cell_type": "code",
   "execution_count": 45,
   "metadata": {},
   "outputs": [
    {
     "data": {
      "text/plain": [
       "{'Vaishna': {'num_of_orders': 0}}"
      ]
     },
     "execution_count": 45,
     "metadata": {},
     "output_type": "execute_result"
    }
   ],
   "source": [
    "cust_data"
   ]
  }
 ],
 "metadata": {
  "kernelspec": {
   "display_name": "Python 3",
   "language": "python",
   "name": "python3"
  },
  "language_info": {
   "codemirror_mode": {
    "name": "ipython",
    "version": 3
   },
   "file_extension": ".py",
   "mimetype": "text/x-python",
   "name": "python",
   "nbconvert_exporter": "python",
   "pygments_lexer": "ipython3",
   "version": "3.12.0"
  }
 },
 "nbformat": 4,
 "nbformat_minor": 2
}
